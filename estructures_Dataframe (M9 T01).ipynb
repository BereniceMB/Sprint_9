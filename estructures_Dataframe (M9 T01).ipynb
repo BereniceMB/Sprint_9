{
 "cells": [
  {
   "cell_type": "markdown",
   "id": "5fd66f42",
   "metadata": {},
   "source": [
    "## <span style=color:red><b>Tasca M9 T01</b></span> \n",
    "- [X] <span style=color:red><b>__Exercici 1:__</b></span>\n",
    "Agafa un text en anglès que vulguis, i calcula'n la freqüència de les paraules.\n"
   ]
  },
  {
   "cell_type": "code",
   "execution_count": 61,
   "id": "0ab73004",
   "metadata": {},
   "outputs": [],
   "source": [
    "# Importamos el texto\n",
    "archivo = open('Weatherwatch.txt',mode='r')\n",
    "texto = archivo.read()\n",
    "#archivo.close()\n",
    "# Podemos mostrar en pantalla el archivo que se acaba de cargar\n",
    "#print(texto)\n"
   ]
  },
  {
   "cell_type": "code",
   "execution_count": 62,
   "id": "ebab6bcc",
   "metadata": {},
   "outputs": [
    {
     "name": "stderr",
     "output_type": "stream",
     "text": [
      "[nltk_data] Downloading package punkt to /Users/mac/nltk_data...\n",
      "[nltk_data]   Package punkt is already up-to-date!\n"
     ]
    },
    {
     "data": {
      "text/plain": [
       "True"
      ]
     },
     "execution_count": 62,
     "metadata": {},
     "output_type": "execute_result"
    }
   ],
   "source": [
    "import nltk\n",
    "nltk.download('punkt')"
   ]
  },
  {
   "cell_type": "code",
   "execution_count": 63,
   "id": "df5775db",
   "metadata": {},
   "outputs": [],
   "source": [
    "from nltk.tokenize import word_tokenize\n",
    "tokenized_word=word_tokenize(texto)"
   ]
  },
  {
   "cell_type": "code",
   "execution_count": 64,
   "id": "917eb16d",
   "metadata": {},
   "outputs": [
    {
     "name": "stdout",
     "output_type": "stream",
     "text": [
      "<FreqDist with 312 samples and 581 outcomes>\n"
     ]
    }
   ],
   "source": [
    "from nltk.probability import FreqDist\n",
    "frecdist = FreqDist(tokenized_word)\n",
    "print(frecdist)\n"
   ]
  },
  {
   "cell_type": "code",
   "execution_count": 65,
   "id": "b10f66ec",
   "metadata": {},
   "outputs": [
    {
     "data": {
      "text/plain": [
       "[(',', 29),\n",
       " ('and', 27),\n",
       " ('.', 24),\n",
       " ('the', 19),\n",
       " ('of', 14),\n",
       " ('a', 12),\n",
       " ('to', 12),\n",
       " ('can', 9),\n",
       " ('in', 9),\n",
       " ('weather', 9),\n",
       " ('from', 7),\n",
       " ('more', 5),\n",
       " ('as', 5),\n",
       " ('pollution', 4),\n",
       " ('for', 4),\n",
       " ('by', 4),\n",
       " ('or', 4),\n",
       " ('areas', 4),\n",
       " ('have', 4),\n",
       " ('this', 4),\n",
       " ('no', 4),\n",
       " ('it', 4),\n",
       " ('climate', 4),\n",
       " ('we', 4),\n",
       " ('We', 4),\n",
       " ('bike', 3),\n",
       " ('be', 3),\n",
       " ('local', 3),\n",
       " ('using', 3),\n",
       " ('over', 3),\n",
       " ('small', 3),\n",
       " ('nearby', 3),\n",
       " ('across', 3),\n",
       " ('urban', 3),\n",
       " ('extreme', 3),\n",
       " ('Guardian', 3),\n",
       " ('world', 3),\n",
       " ('their', 3),\n",
       " ('global', 3),\n",
       " ('free', 3),\n",
       " ('our', 3),\n",
       " ('on', 2),\n",
       " ('measure', 2),\n",
       " ('attached', 2),\n",
       " ('Cassano', 2),\n",
       " ('rides', 2),\n",
       " ('near', 2),\n",
       " ('revealed', 2),\n",
       " ('distances', 2),\n",
       " ('that', 2),\n",
       " ('sign', 2),\n",
       " ('how', 2),\n",
       " ('such', 2),\n",
       " ('built-up', 2),\n",
       " ('used', 2),\n",
       " ('CO2', 2),\n",
       " ('only', 2),\n",
       " ('traffic', 2),\n",
       " ('–', 2),\n",
       " ('trees', 2),\n",
       " ('times', 2),\n",
       " ('very', 2),\n",
       " ('highlight', 2),\n",
       " ('all', 2),\n",
       " ('future', 2),\n",
       " ('is', 2),\n",
       " ('an', 2),\n",
       " ('recently', 2),\n",
       " ('are', 2),\n",
       " ('crisis', 2),\n",
       " ('journalism', 2),\n",
       " ('us', 2),\n",
       " ('people', 2),\n",
       " ('you', 2),\n",
       " ('Get', 1),\n",
       " ('your', 1),\n",
       " (':', 1),\n",
       " ('cycling', 1),\n",
       " ('useful', 1),\n",
       " ('way', 1),\n",
       " ('variations', 1),\n",
       " ('also', 1),\n",
       " ('portable', 1),\n",
       " ('inexpensive', 1),\n",
       " ('monitors', 1),\n",
       " ('handlebars', 1),\n",
       " ('The', 1),\n",
       " ('researcher', 1),\n",
       " ('John', 1),\n",
       " ('made', 1),\n",
       " ('Boulder', 1),\n",
       " ('Colorado', 1),\n",
       " ('compact', 1),\n",
       " ('station', 1),\n",
       " ('his', 1),\n",
       " ('Cycling', 1),\n",
       " ('winter', 1),\n",
       " ('half', 1),\n",
       " ('mile', 1),\n",
       " ('temperature', 1),\n",
       " ('changes', 1),\n",
       " ('than', 1),\n",
       " ('10C', 1),\n",
       " ('(', 1),\n",
       " ('50F', 1),\n",
       " (')', 1),\n",
       " ('larger', 1),\n",
       " ('contrast', 1),\n",
       " ('surprised', 1),\n",
       " ('significant', 1),\n",
       " ('microclimates', 1),\n",
       " ('created', 1),\n",
       " ('landscape', 1),\n",
       " ('dips', 1),\n",
       " ('ground', 1),\n",
       " ('fields', 1),\n",
       " ('woods', 1),\n",
       " ('Another', 1),\n",
       " ('survey', 1),\n",
       " ('Jordi', 1),\n",
       " ('Mazón', 1),\n",
       " ('Spain', 1),\n",
       " ('air', 1),\n",
       " ('He', 1),\n",
       " ('took', 1),\n",
       " ('Barcelona', 1),\n",
       " ('city', 1),\n",
       " ('Viladecans', 1),\n",
       " ('found', 1),\n",
       " ('levels', 1),\n",
       " ('shot', 1),\n",
       " ('up', 1),\n",
       " ('about', 1),\n",
       " ('90ppm', 1),\n",
       " ('few', 1),\n",
       " ('hundred', 1),\n",
       " ('metres', 1),\n",
       " ('largely', 1),\n",
       " ('but', 1),\n",
       " ('dropped', 1),\n",
       " ('sharply', 1),\n",
       " ('forest', 1),\n",
       " ('parks', 1),\n",
       " ('agricultural', 1),\n",
       " ('land', 1),\n",
       " ('sure', 1),\n",
       " ('part', 1),\n",
       " ('vegetation', 1),\n",
       " ('play', 1),\n",
       " ('reducing', 1),\n",
       " ('Bikes', 1),\n",
       " ('stations', 1),\n",
       " ('advantage', 1),\n",
       " ('being', 1),\n",
       " ('well', 1),\n",
       " ('ventilated', 1),\n",
       " ('sampling', 1),\n",
       " ('short', 1),\n",
       " ('highlighting', 1),\n",
       " ('effects', 1),\n",
       " ('Researchers', 1),\n",
       " ('hope', 1),\n",
       " ('lots', 1),\n",
       " ('cyclists', 1),\n",
       " ('equipment', 1),\n",
       " ('riding', 1),\n",
       " ('through', 1),\n",
       " ('sorts', 1),\n",
       " ('localised', 1),\n",
       " ('hoping', 1),\n",
       " ('divert', 1),\n",
       " ('bicycle', 1),\n",
       " ('users', 1),\n",
       " ('heavily', 1),\n",
       " ('polluted', 1),\n",
       " ('accident', 1),\n",
       " ('hotspots', 1),\n",
       " ('where', 1),\n",
       " ('poor', 1),\n",
       " ('increases', 1),\n",
       " ('risks', 1),\n",
       " ('There', 1),\n",
       " ('hiding', 1),\n",
       " ('denying', 1),\n",
       " ('Global', 1),\n",
       " ('heating', 1),\n",
       " ('supercharging', 1),\n",
       " ('at', 1),\n",
       " ('astonishing', 1),\n",
       " ('speed', 1),\n",
       " ('’', 1),\n",
       " ('s', 1),\n",
       " ('visible', 1),\n",
       " ('Mexico', 1),\n",
       " ('beyond', 1),\n",
       " ('analysis', 1),\n",
       " ('human-caused', 1),\n",
       " ('breakdown', 1),\n",
       " ('accelerating', 1),\n",
       " ('toll', 1),\n",
       " ('planet', 1),\n",
       " ('People', 1),\n",
       " ('losing', 1),\n",
       " ('lives', 1),\n",
       " ('livelihoods', 1),\n",
       " ('due', 1),\n",
       " ('deadly', 1),\n",
       " ('frequent', 1),\n",
       " ('heatwaves', 1),\n",
       " ('floods', 1),\n",
       " ('wildfires', 1),\n",
       " ('droughts', 1),\n",
       " ('triggered', 1),\n",
       " ('At', 1),\n",
       " ('will', 1),\n",
       " ('not', 1),\n",
       " ('stop', 1),\n",
       " ('giving', 1),\n",
       " ('life-altering', 1),\n",
       " ('issue', 1),\n",
       " ('urgency', 1),\n",
       " ('attention', 1),\n",
       " ('demands', 1),\n",
       " ('huge', 1),\n",
       " ('team', 1),\n",
       " ('writers', 1),\n",
       " ('around', 1),\n",
       " ('appointed', 1),\n",
       " ('correspondent', 1),\n",
       " ('Our', 1),\n",
       " ('editorial', 1),\n",
       " ('independence', 1),\n",
       " ('means', 1),\n",
       " ('write', 1),\n",
       " ('publish', 1),\n",
       " ('which', 1),\n",
       " ('prioritises', 1),\n",
       " ('policy', 1),\n",
       " ('successes', 1),\n",
       " ('failings', 1),\n",
       " ('those', 1),\n",
       " ('who', 1),\n",
       " ('lead', 1),\n",
       " ('these', 1),\n",
       " ('challenging', 1),\n",
       " ('shareholders', 1),\n",
       " ('billionaire', 1),\n",
       " ('owner', 1),\n",
       " ('just', 1),\n",
       " ('determination', 1),\n",
       " ('passion', 1),\n",
       " ('deliver', 1),\n",
       " ('high-impact', 1),\n",
       " ('reporting', 1),\n",
       " ('commercial', 1),\n",
       " ('political', 1),\n",
       " ('influence', 1),\n",
       " ('And', 1),\n",
       " ('provide', 1),\n",
       " ('everyone', 1),\n",
       " ('read', 1),\n",
       " ('do', 1),\n",
       " ('because', 1),\n",
       " ('believe', 1),\n",
       " ('information', 1),\n",
       " ('equality', 1),\n",
       " ('Greater', 1),\n",
       " ('numbers', 1),\n",
       " ('keep', 1),\n",
       " ('track', 1),\n",
       " ('events', 1),\n",
       " ('shaping', 1),\n",
       " ('understand', 1),\n",
       " ('impact', 1),\n",
       " ('communities', 1),\n",
       " ('become', 1),\n",
       " ('inspired', 1),\n",
       " ('take', 1),\n",
       " ('meaningful', 1),\n",
       " ('action', 1),\n",
       " ('Millions', 1),\n",
       " ('benefit', 1),\n",
       " ('open', 1),\n",
       " ('access', 1),\n",
       " ('quality', 1),\n",
       " ('truthful', 1),\n",
       " ('news', 1),\n",
       " ('regardless', 1),\n",
       " ('ability', 1),\n",
       " ('pay', 1),\n",
       " ('Every', 1),\n",
       " ('contribution', 1),\n",
       " ('however', 1),\n",
       " ('big', 1),\n",
       " ('powers', 1),\n",
       " ('sustains', 1),\n",
       " ('Support', 1),\n",
       " ('little', 1),\n",
       " ('$', 1),\n",
       " ('1', 1),\n",
       " ('takes', 1),\n",
       " ('minute', 1),\n",
       " ('If', 1),\n",
       " ('please', 1),\n",
       " ('consider', 1),\n",
       " ('supporting', 1),\n",
       " ('with', 1),\n",
       " ('regular', 1),\n",
       " ('amount', 1),\n",
       " ('each', 1),\n",
       " ('month', 1),\n",
       " ('Thank', 1)]"
      ]
     },
     "execution_count": 65,
     "metadata": {},
     "output_type": "execute_result"
    }
   ],
   "source": [
    "frecdist.most_common()"
   ]
  },
  {
   "cell_type": "code",
   "execution_count": 66,
   "id": "f5ba31ab",
   "metadata": {},
   "outputs": [
    {
     "data": {
      "image/png": "[encoded data removed]",
      "text/plain": [
       "<Figure size 432x288 with 1 Axes>"
      ]
     },
     "metadata": {
      "needs_background": "light"
     },
     "output_type": "display_data"
    }
   ],
   "source": [
    "# Frequency Distribution Plot\n",
    "import matplotlib.pyplot as plt\n",
    "frecdist.plot(37,cumulative=False)\n",
    "plt.show()"
   ]
  },
  {
   "cell_type": "markdown",
   "id": "3d15e9c3",
   "metadata": {},
   "source": [
    "___"
   ]
  },
  {
   "cell_type": "markdown",
   "id": "65becdc6",
   "metadata": {},
   "source": [
    "- [X] <span style=color:red><b>__Exercici 2:__</b></span>\n",
    "Treu les stopwords i realitza stemming al teu conjunt de dades.\n"
   ]
  },
  {
   "cell_type": "code",
   "execution_count": 67,
   "id": "8546ec47",
   "metadata": {},
   "outputs": [
    {
     "name": "stderr",
     "output_type": "stream",
     "text": [
      "[nltk_data] Downloading package stopwords to /Users/mac/nltk_data...\n",
      "[nltk_data]   Package stopwords is already up-to-date!\n"
     ]
    },
    {
     "data": {
      "text/plain": [
       "True"
      ]
     },
     "execution_count": 67,
     "metadata": {},
     "output_type": "execute_result"
    }
   ],
   "source": [
    "nltk.download('stopwords')"
   ]
  },
  {
   "cell_type": "code",
   "execution_count": 68,
   "id": "77920aff",
   "metadata": {},
   "outputs": [],
   "source": [
    "from nltk.corpus import stopwords\n",
    "stop_words=set(stopwords.words(\"english\"))"
   ]
  },
  {
   "cell_type": "code",
   "execution_count": 69,
   "id": "4042939f",
   "metadata": {},
   "outputs": [],
   "source": [
    "#Removing Stopwords\n",
    "\n",
    "filtered_word=[]\n",
    "for w in tokenized_word:\n",
    "    if w not in stop_words:\n",
    "        filtered_word.append(w)"
   ]
  },
  {
   "cell_type": "code",
   "execution_count": 70,
   "id": "94588aff",
   "metadata": {},
   "outputs": [],
   "source": [
    "# Stemming\n",
    "from nltk.stem import PorterStemmer\n",
    "ps = PorterStemmer()\n",
    "\n",
    "stemmed_words=[]\n",
    "for w in filtered_word:\n",
    "    stemmed_words.append(ps.stem(w))"
   ]
  },
  {
   "cell_type": "code",
   "execution_count": 71,
   "id": "bc3b426a",
   "metadata": {},
   "outputs": [
    {
     "name": "stdout",
     "output_type": "stream",
     "text": [
      "<FreqDist with 242 samples and 373 outcomes>\n"
     ]
    }
   ],
   "source": [
    "frecdist_stemmed_words = FreqDist(stemmed_words)\n",
    "print(frecdist_stemmed_words)"
   ]
  },
  {
   "cell_type": "code",
   "execution_count": 72,
   "id": "880d841f",
   "metadata": {},
   "outputs": [
    {
     "data": {
      "text/plain": [
       "[(',', 29),\n",
       " ('.', 24),\n",
       " ('weather', 9),\n",
       " ('use', 6),\n",
       " ('pollut', 5),\n",
       " ('bike', 4),\n",
       " ('area', 4),\n",
       " ('global', 4),\n",
       " ('climat', 4),\n",
       " ('we', 4),\n",
       " ('local', 3),\n",
       " ('ride', 3),\n",
       " ('small', 3),\n",
       " ('nearbi', 3),\n",
       " ('across', 3),\n",
       " ('urban', 3),\n",
       " ('highlight', 3),\n",
       " ('extrem', 3),\n",
       " ('guardian', 3),\n",
       " ('peopl', 3),\n",
       " ('world', 3),\n",
       " ('free', 3),\n",
       " ('cycl', 2),\n",
       " ('measur', 2),\n",
       " ('attach', 2),\n",
       " ('research', 2),\n",
       " ('cassano', 2),\n",
       " ('near', 2),\n",
       " ('station', 2),\n",
       " ('reveal', 2),\n",
       " ('distanc', 2),\n",
       " ('sign', 2),\n",
       " ('built-up', 2),\n",
       " ('co2', 2),\n",
       " ('traffic', 2),\n",
       " ('–', 2),\n",
       " ('tree', 2),\n",
       " ('time', 2),\n",
       " ('hope', 2),\n",
       " ('futur', 2),\n",
       " ('recent', 2),\n",
       " ('crisi', 2),\n",
       " ('journal', 2),\n",
       " ('us', 2),\n",
       " ('take', 2),\n",
       " ('support', 2),\n",
       " ('get', 1),\n",
       " (':', 1),\n",
       " ('way', 1),\n",
       " ('variat', 1),\n",
       " ('also', 1),\n",
       " ('portabl', 1),\n",
       " ('inexpens', 1),\n",
       " ('monitor', 1),\n",
       " ('handlebar', 1),\n",
       " ('the', 1),\n",
       " ('john', 1),\n",
       " ('made', 1),\n",
       " ('boulder', 1),\n",
       " ('colorado', 1),\n",
       " ('compact', 1),\n",
       " ('winter', 1),\n",
       " ('half', 1),\n",
       " ('mile', 1),\n",
       " ('temperatur', 1),\n",
       " ('chang', 1),\n",
       " ('10c', 1),\n",
       " ('(', 1),\n",
       " ('50f', 1),\n",
       " (')', 1),\n",
       " ('larger', 1),\n",
       " ('contrast', 1),\n",
       " ('surpris', 1),\n",
       " ('signific', 1),\n",
       " ('microclim', 1),\n",
       " ('creat', 1),\n",
       " ('landscap', 1),\n",
       " ('dip', 1),\n",
       " ('ground', 1),\n",
       " ('field', 1),\n",
       " ('wood', 1),\n",
       " ('anoth', 1),\n",
       " ('survey', 1),\n",
       " ('jordi', 1),\n",
       " ('mazón', 1),\n",
       " ('spain', 1),\n",
       " ('air', 1),\n",
       " ('he', 1),\n",
       " ('took', 1),\n",
       " ('barcelona', 1),\n",
       " ('citi', 1),\n",
       " ('viladecan', 1),\n",
       " ('found', 1),\n",
       " ('level', 1),\n",
       " ('shot', 1),\n",
       " ('90ppm', 1),\n",
       " ('hundr', 1),\n",
       " ('metr', 1),\n",
       " ('larg', 1),\n",
       " ('drop', 1),\n",
       " ('sharpli', 1),\n",
       " ('forest', 1),\n",
       " ('park', 1),\n",
       " ('agricultur', 1),\n",
       " ('land', 1),\n",
       " ('sure', 1),\n",
       " ('part', 1),\n",
       " ('veget', 1),\n",
       " ('play', 1),\n",
       " ('reduc', 1),\n",
       " ('advantag', 1),\n",
       " ('well', 1),\n",
       " ('ventil', 1),\n",
       " ('sampl', 1),\n",
       " ('short', 1),\n",
       " ('effect', 1),\n",
       " ('lot', 1),\n",
       " ('cyclist', 1),\n",
       " ('equip', 1),\n",
       " ('sort', 1),\n",
       " ('localis', 1),\n",
       " ('divert', 1),\n",
       " ('bicycl', 1),\n",
       " ('user', 1),\n",
       " ('heavili', 1),\n",
       " ('accid', 1),\n",
       " ('hotspot', 1),\n",
       " ('poor', 1),\n",
       " ('increas', 1),\n",
       " ('risk', 1),\n",
       " ('there', 1),\n",
       " ('hide', 1),\n",
       " ('deni', 1),\n",
       " ('heat', 1),\n",
       " ('supercharg', 1),\n",
       " ('astonish', 1),\n",
       " ('speed', 1),\n",
       " ('’', 1),\n",
       " ('visibl', 1),\n",
       " ('mexico', 1),\n",
       " ('beyond', 1),\n",
       " ('analysi', 1),\n",
       " ('human-caus', 1),\n",
       " ('breakdown', 1),\n",
       " ('acceler', 1),\n",
       " ('toll', 1),\n",
       " ('planet', 1),\n",
       " ('lose', 1),\n",
       " ('live', 1),\n",
       " ('livelihood', 1),\n",
       " ('due', 1),\n",
       " ('deadli', 1),\n",
       " ('frequent', 1),\n",
       " ('heatwav', 1),\n",
       " ('flood', 1),\n",
       " ('wildfir', 1),\n",
       " ('drought', 1),\n",
       " ('trigger', 1),\n",
       " ('at', 1),\n",
       " ('stop', 1),\n",
       " ('give', 1),\n",
       " ('life-alt', 1),\n",
       " ('issu', 1),\n",
       " ('urgenc', 1),\n",
       " ('attent', 1),\n",
       " ('demand', 1),\n",
       " ('huge', 1),\n",
       " ('team', 1),\n",
       " ('writer', 1),\n",
       " ('around', 1),\n",
       " ('appoint', 1),\n",
       " ('correspond', 1),\n",
       " ('our', 1),\n",
       " ('editori', 1),\n",
       " ('independ', 1),\n",
       " ('mean', 1),\n",
       " ('write', 1),\n",
       " ('publish', 1),\n",
       " ('prioritis', 1),\n",
       " ('polici', 1),\n",
       " ('success', 1),\n",
       " ('fail', 1),\n",
       " ('lead', 1),\n",
       " ('challeng', 1),\n",
       " ('sharehold', 1),\n",
       " ('billionair', 1),\n",
       " ('owner', 1),\n",
       " ('determin', 1),\n",
       " ('passion', 1),\n",
       " ('deliv', 1),\n",
       " ('high-impact', 1),\n",
       " ('report', 1),\n",
       " ('commerci', 1),\n",
       " ('polit', 1),\n",
       " ('influenc', 1),\n",
       " ('and', 1),\n",
       " ('provid', 1),\n",
       " ('everyon', 1),\n",
       " ('read', 1),\n",
       " ('believ', 1),\n",
       " ('inform', 1),\n",
       " ('equal', 1),\n",
       " ('greater', 1),\n",
       " ('number', 1),\n",
       " ('keep', 1),\n",
       " ('track', 1),\n",
       " ('event', 1),\n",
       " ('shape', 1),\n",
       " ('understand', 1),\n",
       " ('impact', 1),\n",
       " ('commun', 1),\n",
       " ('becom', 1),\n",
       " ('inspir', 1),\n",
       " ('meaning', 1),\n",
       " ('action', 1),\n",
       " ('million', 1),\n",
       " ('benefit', 1),\n",
       " ('open', 1),\n",
       " ('access', 1),\n",
       " ('qualiti', 1),\n",
       " ('truth', 1),\n",
       " ('news', 1),\n",
       " ('regardless', 1),\n",
       " ('abil', 1),\n",
       " ('pay', 1),\n",
       " ('everi', 1),\n",
       " ('contribut', 1),\n",
       " ('howev', 1),\n",
       " ('big', 1),\n",
       " ('power', 1),\n",
       " ('sustain', 1),\n",
       " ('littl', 1),\n",
       " ('$', 1),\n",
       " ('1', 1),\n",
       " ('minut', 1),\n",
       " ('if', 1),\n",
       " ('pleas', 1),\n",
       " ('consid', 1),\n",
       " ('regular', 1),\n",
       " ('amount', 1),\n",
       " ('month', 1),\n",
       " ('thank', 1)]"
      ]
     },
     "execution_count": 72,
     "metadata": {},
     "output_type": "execute_result"
    }
   ],
   "source": [
    "frecdist_stemmed_words.most_common()"
   ]
  },
  {
   "cell_type": "code",
   "execution_count": 73,
   "id": "7b6ea9de",
   "metadata": {},
   "outputs": [
    {
     "data": {
      "image/png": "[encoded data removed]",
      "text/plain": [
       "<Figure size 1296x720 with 1 Axes>"
      ]
     },
     "metadata": {
      "needs_background": "light"
     },
     "output_type": "display_data"
    }
   ],
   "source": [
    "# Frequency Distribution Plot\n",
    "plt.figure(figsize = (18, 10))\n",
    "frecdist_stemmed_words.plot(40,cumulative=False)\n",
    "plt.show()"
   ]
  },
  {
   "cell_type": "code",
   "execution_count": null,
   "id": "50c6367c",
   "metadata": {},
   "outputs": [],
   "source": []
  },
  {
   "cell_type": "markdown",
   "id": "555d53ca",
   "metadata": {},
   "source": [
    "___"
   ]
  },
  {
   "cell_type": "markdown",
   "id": "3d75b46c",
   "metadata": {},
   "source": [
    "- [ ] <span style=color:red><b>__Exercici 3:__</b></span>\n",
    "Realitza sentiment analysis al teu conjunt de dades."
   ]
  },
  {
   "cell_type": "markdown",
   "id": "61a2047f",
   "metadata": {},
   "source": [
    "Para este ejercicio utilizaremos __TextBlob__ para encontrar la polaridad y la subjetividad del texto. La __polaridad__ es un número entre -1 y 1 que nos indica la positividad del mensaje: entre menor sea el número más negativo será, el 0 es neutro y el 1 es completamente positivo. La __subjetividad__ es un número entre 0 y 1: el 0 indica que el texto es muy objetivo mientras que el 1 indica que el texto es muy subjetivo."
   ]
  },
  {
   "cell_type": "code",
   "execution_count": 74,
   "id": "09e985c8",
   "metadata": {},
   "outputs": [],
   "source": [
    "import textblob\n",
    "from textblob import TextBlob"
   ]
  },
  {
   "cell_type": "code",
   "execution_count": 75,
   "id": "a480f6d6",
   "metadata": {},
   "outputs": [],
   "source": [
    "texto_b = TextBlob(texto)"
   ]
  },
  {
   "cell_type": "code",
   "execution_count": 76,
   "id": "38c961b2",
   "metadata": {},
   "outputs": [
    {
     "name": "stdout",
     "output_type": "stream",
     "text": [
      "La polaridad del texto es: 0.07674792139077853\n"
     ]
    }
   ],
   "source": [
    "print('La polaridad del texto es:', texto_b.sentiment.polarity)"
   ]
  },
  {
   "cell_type": "code",
   "execution_count": 77,
   "id": "fcdb9708",
   "metadata": {},
   "outputs": [
    {
     "name": "stdout",
     "output_type": "stream",
     "text": [
      "La subjetividad del texto es: 0.417635715254763\n"
     ]
    }
   ],
   "source": [
    "print('La subjetividad del texto es:', texto_b.sentiment.subjectivity)"
   ]
  },
  {
   "cell_type": "markdown",
   "id": "f9d45d3d",
   "metadata": {},
   "source": [
    "De esto deducimos que el texto utilizado para este ejercicio es bastante neutro y ligeramente subjetivo."
   ]
  },
  {
   "cell_type": "code",
   "execution_count": null,
   "id": "472727fe",
   "metadata": {},
   "outputs": [],
   "source": []
  }
 ],
 "metadata": {
  "kernelspec": {
   "display_name": "Python 3 (ipykernel)",
   "language": "python",
   "name": "python3"
  },
  "language_info": {
   "codemirror_mode": {
    "name": "ipython",
    "version": 3
   },
   "file_extension": ".py",
   "mimetype": "text/x-python",
   "name": "python",
   "nbconvert_exporter": "python",
   "pygments_lexer": "ipython3",
   "version": "3.9.7"
  }
 },
 "nbformat": 4,
 "nbformat_minor": 5
}
